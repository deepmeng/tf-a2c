{
 "cells": [
  {
   "cell_type": "code",
   "execution_count": 29,
   "metadata": {
    "collapsed": false
   },
   "outputs": [],
   "source": [
    "import gym\n",
    "import matplotlib.pyplot as plt\n",
    "import time\n",
    "from src.atari_wrappers import make_atari\n",
    "\n",
    "from src.atari_wrappers import EpisodicLifeEnv, FireResetEnv, WarpFrame, ClipRewardEnv, FrameStack, wrap_deepmind\n",
    "\n",
    "%matplotlib inline"
   ]
  },
  {
   "cell_type": "code",
   "execution_count": 2,
   "metadata": {
    "collapsed": false
   },
   "outputs": [
    {
     "data": {
      "text/plain": [
       "['MsPacman-ramNoFrameskip-v0',\n",
       " 'MsPacman-ramDeterministic-v0',\n",
       " 'MsPacman-v4',\n",
       " 'MsPacman-ramDeterministic-v4',\n",
       " 'MsPacmanNoFrameskip-v4',\n",
       " 'MsPacman-ramNoFrameskip-v4',\n",
       " 'MsPacman-ram-v4',\n",
       " 'MsPacmanDeterministic-v4',\n",
       " 'MsPacman-ram-v0',\n",
       " 'MsPacman-v0',\n",
       " 'MsPacmanDeterministic-v0',\n",
       " 'MsPacmanNoFrameskip-v0']"
      ]
     },
     "execution_count": 2,
     "metadata": {},
     "output_type": "execute_result"
    }
   ],
   "source": [
    "envs = [e.id for e in gym.envs.registry.all() if 'Pacman' in e.id ]\n",
    "envs"
   ]
  },
  {
   "cell_type": "code",
   "execution_count": 3,
   "metadata": {
    "collapsed": true
   },
   "outputs": [],
   "source": [
    "seed = 0"
   ]
  },
  {
   "cell_type": "code",
   "execution_count": 10,
   "metadata": {
    "collapsed": true
   },
   "outputs": [],
   "source": [
    "def get_summary(env):\n",
    "    \n",
    "    frames = 0\n",
    "    \n",
    "    \n",
    "    env.reset()\n",
    "    env.seed(seed)\n",
    "    done = False\n",
    "    \n",
    "    tic = time.time()\n",
    "    while not done: \n",
    "        _, _, done, _ = env.step(env.action_space.sample())\n",
    "        frames += 1\n",
    "    toc = time.time() - tic\n",
    "    \n",
    "    return frames, toc"
   ]
  },
  {
   "cell_type": "markdown",
   "metadata": {},
   "source": [
    "# Normal Pacman - random skip"
   ]
  },
  {
   "cell_type": "code",
   "execution_count": 21,
   "metadata": {
    "collapsed": false
   },
   "outputs": [
    {
     "name": "stderr",
     "output_type": "stream",
     "text": [
      "[2017-12-28 19:10:52,322] Making new env: MsPacman-v0\n"
     ]
    },
    {
     "name": "stdout",
     "output_type": "stream",
     "text": [
      "INFO: 640frames taken 0.31s\n"
     ]
    }
   ],
   "source": [
    "env = gym.make('MsPacman-v0')\n",
    "f, t = get_summary(env)\n",
    "env.close()\n",
    "print('INFO: {}frames taken {:.2f}s'.format(f, t))"
   ]
  },
  {
   "cell_type": "markdown",
   "metadata": {},
   "source": [
    "# NoFrameSkip"
   ]
  },
  {
   "cell_type": "code",
   "execution_count": 23,
   "metadata": {
    "collapsed": false
   },
   "outputs": [
    {
     "name": "stderr",
     "output_type": "stream",
     "text": [
      "[2017-12-28 19:11:07,379] Making new env: MsPacmanNoFrameskip-v4\n"
     ]
    },
    {
     "name": "stdout",
     "output_type": "stream",
     "text": [
      "INFO: 1793frames taken 0.35s\n"
     ]
    }
   ],
   "source": [
    "env = gym.make('MsPacmanNoFrameskip-v4')\n",
    "f, t = get_summary(env)\n",
    "env.close()\n",
    "print('INFO: {}frames taken {:.2f}s'.format(f, t))"
   ]
  },
  {
   "cell_type": "markdown",
   "metadata": {},
   "source": [
    "# 4 Frames skip"
   ]
  },
  {
   "cell_type": "code",
   "execution_count": 27,
   "metadata": {
    "collapsed": false
   },
   "outputs": [
    {
     "name": "stderr",
     "output_type": "stream",
     "text": [
      "[2017-12-28 19:11:29,765] Making new env: MsPacmanNoFrameskip-v4\n"
     ]
    },
    {
     "name": "stdout",
     "output_type": "stream",
     "text": [
      "INFO: 695frames taken 0.61s\n"
     ]
    }
   ],
   "source": [
    "env = make_atari('MsPacmanNoFrameskip-v4')\n",
    "f, t = get_summary(env)\n",
    "env.close()\n",
    "print('INFO: {}frames taken {:.2f}s'.format(f, t))"
   ]
  },
  {
   "cell_type": "markdown",
   "metadata": {},
   "source": [
    "# Warp Frame"
   ]
  },
  {
   "cell_type": "code",
   "execution_count": 41,
   "metadata": {
    "collapsed": false
   },
   "outputs": [
    {
     "name": "stderr",
     "output_type": "stream",
     "text": [
      "[2017-12-28 19:26:05,807] Making new env: MsPacmanNoFrameskip-v4\n"
     ]
    },
    {
     "data": {
      "image/png": "[encoded data removed]",
      "text/plain": [
       "<matplotlib.figure.Figure at 0x7f11c526ce80>"
      ]
     },
     "metadata": {},
     "output_type": "display_data"
    }
   ],
   "source": [
    "env = make_atari('MsPacmanNoFrameskip-v4')\n",
    "env = EpisodicLifeEnv(env)\n",
    "env = WarpFrame(env)\n",
    "\n",
    "\n",
    "env.seed(seed)\n",
    "obs = env.reset()\n",
    "plt.imshow(obs.reshape(84, 84), cmap='gray')\n",
    "env.close()"
   ]
  },
  {
   "cell_type": "markdown",
   "metadata": {},
   "source": [
    "# Frame Stacking"
   ]
  },
  {
   "cell_type": "code",
   "execution_count": 55,
   "metadata": {
    "collapsed": false
   },
   "outputs": [
    {
     "name": "stderr",
     "output_type": "stream",
     "text": [
      "[2017-12-28 19:34:06,926] Making new env: MsPacmanNoFrameskip-v4\n"
     ]
    },
    {
     "data": {
      "image/png": "[encoded data removed]",
      "text/plain": [
       "<matplotlib.figure.Figure at 0x7f11cc20f358>"
      ]
     },
     "metadata": {},
     "output_type": "display_data"
    }
   ],
   "source": [
    "env = make_atari('MsPacmanNoFrameskip-v4')\n",
    "env = EpisodicLifeEnv(env)\n",
    "env = WarpFrame(env)\n",
    "env = FrameStack(env, 4)\n",
    "env.seed(seed)\n",
    "obs = env.reset()\n",
    "for i in range(240):\n",
    "    obs, _, _, _ = env.step(env.action_space.sample())\n",
    "env.close()\n",
    "obs = obs.__array__()\n",
    "\n",
    "fig, axs = plt.subplots(1, 4, figsize=(19, 6))\n",
    "for i in range(4):\n",
    "    axs[i].imshow(obs[:, :, i], cmap='gray')"
   ]
  },
  {
   "cell_type": "code",
   "execution_count": null,
   "metadata": {
    "collapsed": true
   },
   "outputs": [],
   "source": []
  }
 ],
 "metadata": {
  "kernelspec": {
   "display_name": "Python 3",
   "language": "python",
   "name": "python3"
  },
  "language_info": {
   "codemirror_mode": {
    "name": "ipython",
    "version": 3
   },
   "file_extension": ".py",
   "mimetype": "text/x-python",
   "name": "python",
   "nbconvert_exporter": "python",
   "pygments_lexer": "ipython3",
   "version": "3.5.2"
  }
 },
 "nbformat": 4,
 "nbformat_minor": 2
}
